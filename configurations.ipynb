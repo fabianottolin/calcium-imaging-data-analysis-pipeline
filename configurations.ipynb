{
 "cells": [
  {
   "cell_type": "code",
   "execution_count": 5,
   "metadata": {},
   "outputs": [
    {
     "name": "stdout",
     "output_type": "stream",
     "text": [
      "Overwriting configurations.py\n"
     ]
    }
   ],
   "source": [
    "%%writefile configurations.py\n",
    "\n",
    "## Configurations ##\n",
    "####    these variables need to be edited if running from different folders/PCs    ####\n",
    "main_folder = r\"C:\\Users\\python_student\\fabian\\data_lab_report\\exp2\"  ## main folder where the different subfolders are in\n",
    "group1 = main_folder+r\"\\high_pH\" ## folder group 1, keep \\ that way\n",
    "group2 = main_folder+r\"\\high_pH_cysteine\" ## folder group 2, keep \\ that way\n",
    "group3 = main_folder+r\"\\normal_pH\" ## folder group 3 keep \\ that way\n",
    "group4 = main_folder+r\"\\normal_pH_cysteine\" ## folder group 4 keep \\ that way\n",
    "\n",
    "group_number = 3 # prevents issue with for variable in locals()\n",
    "\n",
    "cascade_file_path = r\"C:\\Users\\python_student\\Cascade-master\" ## CASCADE master folder\n",
    "\n",
    "frame_rate = 10\n",
    "\n",
    "## plot a set of nb_neurons randomly chosen neuronal traces (first seconds)\n",
    "nb_neurons = 16 ## maybe put directly into cascade_this???\n",
    "\n",
    "model_name = \"Global_EXC_10Hz_smoothing200ms\" \n",
    "## select fitting model from list (created in cascada code) ##\n",
    "## list still in CASCADE code, maybe add here##\n",
    "\n",
    "EXPERIMENT_DURATION = 60\n",
    " \n",
    "FRAME_INTERVAL = 1 / frame_rate\n",
    " \n",
    "BIN_WIDTH =  20 \n",
    "#SET TO APPROX 200ms\n",
    " \n",
    "FILTER_NEURONS = True\n",
    "\n",
    "groups = []\n",
    "for n in range(group_number):\n",
    "    group_name = f\"group{n+1}\"\n",
    "    if group_name in locals():\n",
    "        groups.append(locals()[group_name])\n",
    "\n"
   ]
  }
 ],
 "metadata": {
  "kernelspec": {
   "display_name": "suite2p",
   "language": "python",
   "name": "python3"
  },
  "language_info": {
   "codemirror_mode": {
    "name": "ipython",
    "version": 3
   },
   "file_extension": ".py",
   "mimetype": "text/x-python",
   "name": "python",
   "nbconvert_exporter": "python",
   "pygments_lexer": "ipython3",
   "version": "3.8.18"
  }
 },
 "nbformat": 4,
 "nbformat_minor": 2
}
