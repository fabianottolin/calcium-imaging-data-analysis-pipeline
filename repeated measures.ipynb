{
 "cells": [
  {
   "cell_type": "code",
   "execution_count": 27,
   "metadata": {},
   "outputs": [],
   "source": [
    "## data transformation repeated measures ##\n",
    "import pandas as pd\n",
    "from configurations import *\n",
    "\n"
   ]
  },
  {
   "cell_type": "code",
   "execution_count": 50,
   "metadata": {},
   "outputs": [
    {
     "name": "stdout",
     "output_type": "stream",
     "text": [
      "['C:\\\\Users\\\\python_student\\\\fabian\\\\data_lab_report\\\\exp2\\\\high_pH', 'C:\\\\Users\\\\python_student\\\\fabian\\\\data_lab_report\\\\exp2\\\\high_pH_cysteine', 'C:\\\\Users\\\\python_student\\\\fabian\\\\data_lab_report\\\\exp2\\\\normal_pH_cysteine', 'C:\\\\Users\\\\python_student\\\\fabian\\\\data_lab_report\\\\exp2\\\\pre_high_pH', 'C:\\\\Users\\\\python_student\\\\fabian\\\\data_lab_report\\\\exp2\\\\pre_high_pH_cysteine', 'C:\\\\Users\\\\python_student\\\\fabian\\\\data_lab_report\\\\exp2\\\\pre_normal_pH_cysteine']\n"
     ]
    },
    {
     "name": "stderr",
     "output_type": "stream",
     "text": [
      "C:\\Users\\python_student\\AppData\\Local\\Temp\\ipykernel_21508\\4083311300.py:10: SettingWithCopyWarning: \n",
      "A value is trying to be set on a copy of a slice from a DataFrame\n",
      "\n",
      "See the caveats in the documentation: https://pandas.pydata.org/pandas-docs/stable/user_guide/indexing.html#returning-a-view-versus-a-copy\n",
      "  df[\"pH\"][i]=(\"high\")\n",
      "C:\\Users\\python_student\\AppData\\Local\\Temp\\ipykernel_21508\\4083311300.py:20: SettingWithCopyWarning: \n",
      "A value is trying to be set on a copy of a slice from a DataFrame\n",
      "\n",
      "See the caveats in the documentation: https://pandas.pydata.org/pandas-docs/stable/user_guide/indexing.html#returning-a-view-versus-a-copy\n",
      "  df[\"cysteine\"][i]=(\"no_cysteine\")\n",
      "C:\\Users\\python_student\\AppData\\Local\\Temp\\ipykernel_21508\\4083311300.py:28: SettingWithCopyWarning: \n",
      "A value is trying to be set on a copy of a slice from a DataFrame\n",
      "\n",
      "See the caveats in the documentation: https://pandas.pydata.org/pandas-docs/stable/user_guide/indexing.html#returning-a-view-versus-a-copy\n",
      "  df[\"time\"][i]=(\"post\")\n"
     ]
    }
   ],
   "source": [
    "print(groups)\n",
    "\n",
    "df = pd.read_csv(r\"C:\\Users\\python_student\\fabian\\data_lab_report\\exp2/final_df2.csv\")\n",
    "df = df.drop(\"Unnamed: 0\", axis = 1)\n",
    "\n",
    "df[\"pH\"] = 0\n",
    "\n",
    "for  i, row in enumerate(df['group']):\n",
    "    if \"high_pH\" in row:\n",
    "        df[\"pH\"][i]=(\"high\")\n",
    "    else:\n",
    "        df[\"pH\"][i]=('low')\n",
    "\n",
    "df[\"cysteine\"] = 0\n",
    "\n",
    "for  i, row in enumerate(df['group']):\n",
    "    if \"cysteine\" in row:\n",
    "        df[\"cysteine\"][i]=(\"cysteine\")\n",
    "    else:\n",
    "        df[\"cysteine\"][i]=(\"no_cysteine\")\n",
    "\n",
    "df[\"time\"] = 0\n",
    "\n",
    "for  i, row in enumerate(df['group']):\n",
    "    if \"pre\" in row:\n",
    "        df[\"time\"][i]=(\"pre\")\n",
    "    else:\n",
    "        df[\"time\"][i]=(\"post\")\n",
    "\n",
    "df\n",
    "\n",
    "df.to_csv(r\"C:\\Users\\python_student\\fabian\\data_lab_report\\exp2/abc.csv\")\n",
    "\n",
    "\n",
    "\n"
   ]
  }
 ],
 "metadata": {
  "kernelspec": {
   "display_name": "Cascade",
   "language": "python",
   "name": "python3"
  },
  "language_info": {
   "codemirror_mode": {
    "name": "ipython",
    "version": 3
   },
   "file_extension": ".py",
   "mimetype": "text/x-python",
   "name": "python",
   "nbconvert_exporter": "python",
   "pygments_lexer": "ipython3",
   "version": "3.8.18"
  }
 },
 "nbformat": 4,
 "nbformat_minor": 2
}
